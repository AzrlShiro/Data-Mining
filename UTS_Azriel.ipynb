{
  "nbformat": 4,
  "nbformat_minor": 0,
  "metadata": {
    "colab": {
      "provenance": [],
      "authorship_tag": "ABX9TyOXi+Re+ypDUsOntRXFMwSU",
      "include_colab_link": true
    },
    "kernelspec": {
      "name": "python3",
      "display_name": "Python 3"
    },
    "language_info": {
      "name": "python"
    }
  },
  "cells": [
    {
      "cell_type": "markdown",
      "metadata": {
        "id": "view-in-github",
        "colab_type": "text"
      },
      "source": [
        "<a href=\"https://colab.research.google.com/github/AzrlShiro/Data-Mining/blob/main/UTS_Azriel.ipynb\" target=\"_parent\"><img src=\"https://colab.research.google.com/assets/colab-badge.svg\" alt=\"Open In Colab\"/></a>"
      ]
    },
    {
      "cell_type": "markdown",
      "source": [
        "# UTS\n",
        "\n",
        "\n",
        "> Lakukan analisa terhadap data pada  https://archive.ics.uci.edu/ml/datasets/Breast+Cancer+Coimbra\n",
        "\n",
        "dengan menggunakan klasifikasi\n",
        "\n",
        "- metode Naive Bayes Classifier\n",
        "\n",
        "- metode pohon keputusan (Desision tree)\n",
        "\n",
        "Proses analisa dilaporkan dan diupload di github ( menggunakan jupyter book)\n",
        "\n"
      ],
      "metadata": {
        "id": "CD-Wq5idvRyL"
      }
    },
    {
      "cell_type": "code",
      "execution_count": 36,
      "metadata": {
        "id": "tVqgng9JqcRb"
      },
      "outputs": [],
      "source": [
        "import pandas as pd\n",
        "import numpy as np \n",
        "import seaborn as sns\n",
        "import matplotlib.pyplot as plt\n",
        "#Metrics\n",
        "from sklearn.metrics import make_scorer, accuracy_score,precision_score\n",
        "from sklearn.metrics import classification_report\n",
        "from sklearn.metrics import confusion_matrix\n",
        "from sklearn.metrics import accuracy_score ,precision_score,recall_score,f1_score\n",
        "\n",
        "#Model Select\n",
        "from sklearn.model_selection import KFold,train_test_split,cross_val_score\n",
        "from sklearn.model_selection import train_test_split\n",
        "from sklearn.naive_bayes import GaussianNB\n",
        "from sklearn.tree import DecisionTreeClassifier"
      ]
    },
    {
      "cell_type": "code",
      "source": [
        "dataset_url = \"https://raw.githubusercontent.com/AzrlShiro/Data-Mining/main/dataR2.csv\"\n",
        "cancer = pd.read_csv(dataset_url)\n",
        "cancer"
      ],
      "metadata": {
        "colab": {
          "base_uri": "https://localhost:8080/",
          "height": 424
        },
        "id": "ZeODyL3ArjxX",
        "outputId": "45ac54a2-c5c4-4de7-a443-8f1df6ffbed6"
      },
      "execution_count": 9,
      "outputs": [
        {
          "output_type": "execute_result",
          "data": {
            "text/plain": [
              "     Age        BMI  Glucose  Insulin      HOMA   Leptin  Adiponectin  \\\n",
              "0     48  23.500000       70    2.707  0.467409   8.8071     9.702400   \n",
              "1     83  20.690495       92    3.115  0.706897   8.8438     5.429285   \n",
              "2     82  23.124670       91    4.498  1.009651  17.9393    22.432040   \n",
              "3     68  21.367521       77    3.226  0.612725   9.8827     7.169560   \n",
              "4     86  21.111111       92    3.549  0.805386   6.6994     4.819240   \n",
              "..   ...        ...      ...      ...       ...      ...          ...   \n",
              "111   45  26.850000       92    3.330  0.755688  54.6800    12.100000   \n",
              "112   62  26.840000      100    4.530  1.117400  12.4500    21.420000   \n",
              "113   65  32.050000       97    5.730  1.370998  61.4800    22.540000   \n",
              "114   72  25.590000       82    2.820  0.570392  24.9600    33.750000   \n",
              "115   86  27.180000      138   19.910  6.777364  90.2800    14.110000   \n",
              "\n",
              "     Resistin    MCP.1  Classification  \n",
              "0     7.99585  417.114               1  \n",
              "1     4.06405  468.786               1  \n",
              "2     9.27715  554.697               1  \n",
              "3    12.76600  928.220               1  \n",
              "4    10.57635  773.920               1  \n",
              "..        ...      ...             ...  \n",
              "111  10.96000  268.230               2  \n",
              "112   7.32000  330.160               2  \n",
              "113  10.33000  314.050               2  \n",
              "114   3.27000  392.460               2  \n",
              "115   4.35000   90.090               2  \n",
              "\n",
              "[116 rows x 10 columns]"
            ],
            "text/html": [
              "\n",
              "  <div id=\"df-f0695b0c-931a-4953-a4a7-88fcce708788\">\n",
              "    <div class=\"colab-df-container\">\n",
              "      <div>\n",
              "<style scoped>\n",
              "    .dataframe tbody tr th:only-of-type {\n",
              "        vertical-align: middle;\n",
              "    }\n",
              "\n",
              "    .dataframe tbody tr th {\n",
              "        vertical-align: top;\n",
              "    }\n",
              "\n",
              "    .dataframe thead th {\n",
              "        text-align: right;\n",
              "    }\n",
              "</style>\n",
              "<table border=\"1\" class=\"dataframe\">\n",
              "  <thead>\n",
              "    <tr style=\"text-align: right;\">\n",
              "      <th></th>\n",
              "      <th>Age</th>\n",
              "      <th>BMI</th>\n",
              "      <th>Glucose</th>\n",
              "      <th>Insulin</th>\n",
              "      <th>HOMA</th>\n",
              "      <th>Leptin</th>\n",
              "      <th>Adiponectin</th>\n",
              "      <th>Resistin</th>\n",
              "      <th>MCP.1</th>\n",
              "      <th>Classification</th>\n",
              "    </tr>\n",
              "  </thead>\n",
              "  <tbody>\n",
              "    <tr>\n",
              "      <th>0</th>\n",
              "      <td>48</td>\n",
              "      <td>23.500000</td>\n",
              "      <td>70</td>\n",
              "      <td>2.707</td>\n",
              "      <td>0.467409</td>\n",
              "      <td>8.8071</td>\n",
              "      <td>9.702400</td>\n",
              "      <td>7.99585</td>\n",
              "      <td>417.114</td>\n",
              "      <td>1</td>\n",
              "    </tr>\n",
              "    <tr>\n",
              "      <th>1</th>\n",
              "      <td>83</td>\n",
              "      <td>20.690495</td>\n",
              "      <td>92</td>\n",
              "      <td>3.115</td>\n",
              "      <td>0.706897</td>\n",
              "      <td>8.8438</td>\n",
              "      <td>5.429285</td>\n",
              "      <td>4.06405</td>\n",
              "      <td>468.786</td>\n",
              "      <td>1</td>\n",
              "    </tr>\n",
              "    <tr>\n",
              "      <th>2</th>\n",
              "      <td>82</td>\n",
              "      <td>23.124670</td>\n",
              "      <td>91</td>\n",
              "      <td>4.498</td>\n",
              "      <td>1.009651</td>\n",
              "      <td>17.9393</td>\n",
              "      <td>22.432040</td>\n",
              "      <td>9.27715</td>\n",
              "      <td>554.697</td>\n",
              "      <td>1</td>\n",
              "    </tr>\n",
              "    <tr>\n",
              "      <th>3</th>\n",
              "      <td>68</td>\n",
              "      <td>21.367521</td>\n",
              "      <td>77</td>\n",
              "      <td>3.226</td>\n",
              "      <td>0.612725</td>\n",
              "      <td>9.8827</td>\n",
              "      <td>7.169560</td>\n",
              "      <td>12.76600</td>\n",
              "      <td>928.220</td>\n",
              "      <td>1</td>\n",
              "    </tr>\n",
              "    <tr>\n",
              "      <th>4</th>\n",
              "      <td>86</td>\n",
              "      <td>21.111111</td>\n",
              "      <td>92</td>\n",
              "      <td>3.549</td>\n",
              "      <td>0.805386</td>\n",
              "      <td>6.6994</td>\n",
              "      <td>4.819240</td>\n",
              "      <td>10.57635</td>\n",
              "      <td>773.920</td>\n",
              "      <td>1</td>\n",
              "    </tr>\n",
              "    <tr>\n",
              "      <th>...</th>\n",
              "      <td>...</td>\n",
              "      <td>...</td>\n",
              "      <td>...</td>\n",
              "      <td>...</td>\n",
              "      <td>...</td>\n",
              "      <td>...</td>\n",
              "      <td>...</td>\n",
              "      <td>...</td>\n",
              "      <td>...</td>\n",
              "      <td>...</td>\n",
              "    </tr>\n",
              "    <tr>\n",
              "      <th>111</th>\n",
              "      <td>45</td>\n",
              "      <td>26.850000</td>\n",
              "      <td>92</td>\n",
              "      <td>3.330</td>\n",
              "      <td>0.755688</td>\n",
              "      <td>54.6800</td>\n",
              "      <td>12.100000</td>\n",
              "      <td>10.96000</td>\n",
              "      <td>268.230</td>\n",
              "      <td>2</td>\n",
              "    </tr>\n",
              "    <tr>\n",
              "      <th>112</th>\n",
              "      <td>62</td>\n",
              "      <td>26.840000</td>\n",
              "      <td>100</td>\n",
              "      <td>4.530</td>\n",
              "      <td>1.117400</td>\n",
              "      <td>12.4500</td>\n",
              "      <td>21.420000</td>\n",
              "      <td>7.32000</td>\n",
              "      <td>330.160</td>\n",
              "      <td>2</td>\n",
              "    </tr>\n",
              "    <tr>\n",
              "      <th>113</th>\n",
              "      <td>65</td>\n",
              "      <td>32.050000</td>\n",
              "      <td>97</td>\n",
              "      <td>5.730</td>\n",
              "      <td>1.370998</td>\n",
              "      <td>61.4800</td>\n",
              "      <td>22.540000</td>\n",
              "      <td>10.33000</td>\n",
              "      <td>314.050</td>\n",
              "      <td>2</td>\n",
              "    </tr>\n",
              "    <tr>\n",
              "      <th>114</th>\n",
              "      <td>72</td>\n",
              "      <td>25.590000</td>\n",
              "      <td>82</td>\n",
              "      <td>2.820</td>\n",
              "      <td>0.570392</td>\n",
              "      <td>24.9600</td>\n",
              "      <td>33.750000</td>\n",
              "      <td>3.27000</td>\n",
              "      <td>392.460</td>\n",
              "      <td>2</td>\n",
              "    </tr>\n",
              "    <tr>\n",
              "      <th>115</th>\n",
              "      <td>86</td>\n",
              "      <td>27.180000</td>\n",
              "      <td>138</td>\n",
              "      <td>19.910</td>\n",
              "      <td>6.777364</td>\n",
              "      <td>90.2800</td>\n",
              "      <td>14.110000</td>\n",
              "      <td>4.35000</td>\n",
              "      <td>90.090</td>\n",
              "      <td>2</td>\n",
              "    </tr>\n",
              "  </tbody>\n",
              "</table>\n",
              "<p>116 rows × 10 columns</p>\n",
              "</div>\n",
              "      <button class=\"colab-df-convert\" onclick=\"convertToInteractive('df-f0695b0c-931a-4953-a4a7-88fcce708788')\"\n",
              "              title=\"Convert this dataframe to an interactive table.\"\n",
              "              style=\"display:none;\">\n",
              "        \n",
              "  <svg xmlns=\"http://www.w3.org/2000/svg\" height=\"24px\"viewBox=\"0 0 24 24\"\n",
              "       width=\"24px\">\n",
              "    <path d=\"M0 0h24v24H0V0z\" fill=\"none\"/>\n",
              "    <path d=\"M18.56 5.44l.94 2.06.94-2.06 2.06-.94-2.06-.94-.94-2.06-.94 2.06-2.06.94zm-11 1L8.5 8.5l.94-2.06 2.06-.94-2.06-.94L8.5 2.5l-.94 2.06-2.06.94zm10 10l.94 2.06.94-2.06 2.06-.94-2.06-.94-.94-2.06-.94 2.06-2.06.94z\"/><path d=\"M17.41 7.96l-1.37-1.37c-.4-.4-.92-.59-1.43-.59-.52 0-1.04.2-1.43.59L10.3 9.45l-7.72 7.72c-.78.78-.78 2.05 0 2.83L4 21.41c.39.39.9.59 1.41.59.51 0 1.02-.2 1.41-.59l7.78-7.78 2.81-2.81c.8-.78.8-2.07 0-2.86zM5.41 20L4 18.59l7.72-7.72 1.47 1.35L5.41 20z\"/>\n",
              "  </svg>\n",
              "      </button>\n",
              "      \n",
              "  <style>\n",
              "    .colab-df-container {\n",
              "      display:flex;\n",
              "      flex-wrap:wrap;\n",
              "      gap: 12px;\n",
              "    }\n",
              "\n",
              "    .colab-df-convert {\n",
              "      background-color: #E8F0FE;\n",
              "      border: none;\n",
              "      border-radius: 50%;\n",
              "      cursor: pointer;\n",
              "      display: none;\n",
              "      fill: #1967D2;\n",
              "      height: 32px;\n",
              "      padding: 0 0 0 0;\n",
              "      width: 32px;\n",
              "    }\n",
              "\n",
              "    .colab-df-convert:hover {\n",
              "      background-color: #E2EBFA;\n",
              "      box-shadow: 0px 1px 2px rgba(60, 64, 67, 0.3), 0px 1px 3px 1px rgba(60, 64, 67, 0.15);\n",
              "      fill: #174EA6;\n",
              "    }\n",
              "\n",
              "    [theme=dark] .colab-df-convert {\n",
              "      background-color: #3B4455;\n",
              "      fill: #D2E3FC;\n",
              "    }\n",
              "\n",
              "    [theme=dark] .colab-df-convert:hover {\n",
              "      background-color: #434B5C;\n",
              "      box-shadow: 0px 1px 3px 1px rgba(0, 0, 0, 0.15);\n",
              "      filter: drop-shadow(0px 1px 2px rgba(0, 0, 0, 0.3));\n",
              "      fill: #FFFFFF;\n",
              "    }\n",
              "  </style>\n",
              "\n",
              "      <script>\n",
              "        const buttonEl =\n",
              "          document.querySelector('#df-f0695b0c-931a-4953-a4a7-88fcce708788 button.colab-df-convert');\n",
              "        buttonEl.style.display =\n",
              "          google.colab.kernel.accessAllowed ? 'block' : 'none';\n",
              "\n",
              "        async function convertToInteractive(key) {\n",
              "          const element = document.querySelector('#df-f0695b0c-931a-4953-a4a7-88fcce708788');\n",
              "          const dataTable =\n",
              "            await google.colab.kernel.invokeFunction('convertToInteractive',\n",
              "                                                     [key], {});\n",
              "          if (!dataTable) return;\n",
              "\n",
              "          const docLinkHtml = 'Like what you see? Visit the ' +\n",
              "            '<a target=\"_blank\" href=https://colab.research.google.com/notebooks/data_table.ipynb>data table notebook</a>'\n",
              "            + ' to learn more about interactive tables.';\n",
              "          element.innerHTML = '';\n",
              "          dataTable['output_type'] = 'display_data';\n",
              "          await google.colab.output.renderOutput(dataTable, element);\n",
              "          const docLink = document.createElement('div');\n",
              "          docLink.innerHTML = docLinkHtml;\n",
              "          element.appendChild(docLink);\n",
              "        }\n",
              "      </script>\n",
              "    </div>\n",
              "  </div>\n",
              "  "
            ]
          },
          "metadata": {},
          "execution_count": 9
        }
      ]
    },
    {
      "cell_type": "code",
      "source": [
        "cancer.keys()"
      ],
      "metadata": {
        "colab": {
          "base_uri": "https://localhost:8080/"
        },
        "id": "f2WPZTLQxgOT",
        "outputId": "5539515f-9d23-44a5-aa56-27be9ee185b5"
      },
      "execution_count": 13,
      "outputs": [
        {
          "output_type": "execute_result",
          "data": {
            "text/plain": [
              "Index(['Age', 'BMI', 'Glucose', 'Insulin', 'HOMA', 'Leptin', 'Adiponectin',\n",
              "       'Resistin', 'MCP.1', 'Classification'],\n",
              "      dtype='object')"
            ]
          },
          "metadata": {},
          "execution_count": 13
        }
      ]
    },
    {
      "cell_type": "code",
      "source": [
        "print(cancer.size)\n",
        "print(cancer.shape)\n",
        "print(cancer.ndim)"
      ],
      "metadata": {
        "colab": {
          "base_uri": "https://localhost:8080/"
        },
        "id": "MZ9N4mU6-1Xq",
        "outputId": "6655650e-dd92-4ff3-d340-a960953e9fb9"
      },
      "execution_count": 10,
      "outputs": [
        {
          "output_type": "stream",
          "name": "stdout",
          "text": [
            "1160\n",
            "(116, 10)\n",
            "2\n"
          ]
        }
      ]
    },
    {
      "cell_type": "code",
      "source": [
        "# Healthy = 1\n",
        "#Patients = 2\n",
        "Healthy = cancer[cancer.Classification == 1]\n",
        "Patients = cancer[cancer['Classification'] == 2]\n",
        "plt.figure(figsize = (15,10))\n",
        "sns.kdeplot( x = 'Age',y = 'Glucose', data = Patients, shade=True, thresh=0.05, cbar=True)\n",
        "sns.kdeplot( x = 'Age',y = 'Glucose', data = Healthy, shade=True, thresh=0.05, cbar=True)\n",
        "plt.title('Healthy Controls Vs Patients');"
      ],
      "metadata": {
        "colab": {
          "base_uri": "https://localhost:8080/",
          "height": 621
        },
        "id": "62hTnym1_UO2",
        "outputId": "633c4189-85c3-4695-e9b8-9569a8e2b4d8"
      },
      "execution_count": 14,
      "outputs": [
        {
          "output_type": "display_data",
          "data": {
            "text/plain": [
              "<Figure size 1080x720 with 3 Axes>"
            ],
            "image/png": "[encoded data removed]"
          },
          "metadata": {
            "needs_background": "light"
          }
        }
      ]
    },
    {
      "cell_type": "code",
      "source": [
        "plt.figure(figsize = (15,10))\n",
        "sns.kdeplot(data=cancer, x=\"Age\", y=\"Glucose\", hue=\"Classification\", shade=True, thresh=0.05, cbar=True)\n",
        "plt.title('Healthy Controls Vs Patients');"
      ],
      "metadata": {
        "colab": {
          "base_uri": "https://localhost:8080/",
          "height": 621
        },
        "id": "ExtZr4NtBQpT",
        "outputId": "74a84d07-c1a9-46b5-81d5-c888db02ba34"
      },
      "execution_count": 16,
      "outputs": [
        {
          "output_type": "display_data",
          "data": {
            "text/plain": [
              "<Figure size 1080x720 with 3 Axes>"
            ],
            "image/png": "[encoded data removed]"
          },
          "metadata": {
            "needs_background": "light"
          }
        }
      ]
    },
    {
      "cell_type": "code",
      "source": [
        "sns.kdeplot( x = 'Age',y = 'Glucose', data = Patients);\n",
        "plt.figure(figsize = (8,5))\n",
        "sns.kdeplot( x = 'Age',y = 'Glucose', data = Healthy,  shade = True, thresh=0.5);\n",
        "plt.figure(figsize = (8,5))\n",
        "sns.kdeplot( x = 'Age',y = 'Glucose', data = Healthy,  fill=True, thresh=0);"
      ],
      "metadata": {
        "colab": {
          "base_uri": "https://localhost:8080/",
          "height": 913
        },
        "id": "OxatrD5zBfK4",
        "outputId": "9df2056a-b0d6-403a-97f8-2f6910c6b27f"
      },
      "execution_count": 21,
      "outputs": [
        {
          "output_type": "display_data",
          "data": {
            "text/plain": [
              "<Figure size 432x288 with 1 Axes>"
            ],
            "image/png": "[encoded data removed]"
          },
          "metadata": {
            "needs_background": "light"
          }
        },
        {
          "output_type": "display_data",
          "data": {
            "text/plain": [
              "<Figure size 576x360 with 1 Axes>"
            ],
            "image/png": "[encoded data removed]"
          },
          "metadata": {
            "needs_background": "light"
          }
        },
        {
          "output_type": "display_data",
          "data": {
            "text/plain": [
              "<Figure size 576x360 with 1 Axes>"
            ],
            "image/png": "[encoded data removed]"
          },
          "metadata": {
            "needs_background": "light"
          }
        }
      ]
    },
    {
      "cell_type": "code",
      "source": [
        "cancer.corr()"
      ],
      "metadata": {
        "colab": {
          "base_uri": "https://localhost:8080/",
          "height": 363
        },
        "id": "BnpvsNNTCA0Z",
        "outputId": "55f7381c-dfae-4d17-d7cc-ddeeb6a4ad0a"
      },
      "execution_count": 22,
      "outputs": [
        {
          "output_type": "execute_result",
          "data": {
            "text/plain": [
              "                     Age       BMI   Glucose   Insulin      HOMA    Leptin  \\\n",
              "Age             1.000000  0.008530  0.230106  0.032495  0.127033  0.102626   \n",
              "BMI             0.008530  1.000000  0.138845  0.145295  0.114480  0.569593   \n",
              "Glucose         0.230106  0.138845  1.000000  0.504653  0.696212  0.305080   \n",
              "Insulin         0.032495  0.145295  0.504653  1.000000  0.932198  0.301462   \n",
              "HOMA            0.127033  0.114480  0.696212  0.932198  1.000000  0.327210   \n",
              "Leptin          0.102626  0.569593  0.305080  0.301462  0.327210  1.000000   \n",
              "Adiponectin    -0.219813 -0.302735 -0.122121 -0.031296 -0.056337 -0.095389   \n",
              "Resistin        0.002742  0.195350  0.291327  0.146731  0.231101  0.256234   \n",
              "MCP.1           0.013462  0.224038  0.264879  0.174356  0.259529  0.014009   \n",
              "Classification -0.043555 -0.132586  0.384315  0.276804  0.284012 -0.001078   \n",
              "\n",
              "                Adiponectin  Resistin     MCP.1  Classification  \n",
              "Age               -0.219813  0.002742  0.013462       -0.043555  \n",
              "BMI               -0.302735  0.195350  0.224038       -0.132586  \n",
              "Glucose           -0.122121  0.291327  0.264879        0.384315  \n",
              "Insulin           -0.031296  0.146731  0.174356        0.276804  \n",
              "HOMA              -0.056337  0.231101  0.259529        0.284012  \n",
              "Leptin            -0.095389  0.256234  0.014009       -0.001078  \n",
              "Adiponectin        1.000000 -0.252363 -0.200694       -0.019490  \n",
              "Resistin          -0.252363  1.000000  0.366474        0.227310  \n",
              "MCP.1             -0.200694  0.366474  1.000000        0.091381  \n",
              "Classification    -0.019490  0.227310  0.091381        1.000000  "
            ],
            "text/html": [
              "\n",
              "  <div id=\"df-b32da516-2e45-4f44-8577-75ecf6336f20\">\n",
              "    <div class=\"colab-df-container\">\n",
              "      <div>\n",
              "<style scoped>\n",
              "    .dataframe tbody tr th:only-of-type {\n",
              "        vertical-align: middle;\n",
              "    }\n",
              "\n",
              "    .dataframe tbody tr th {\n",
              "        vertical-align: top;\n",
              "    }\n",
              "\n",
              "    .dataframe thead th {\n",
              "        text-align: right;\n",
              "    }\n",
              "</style>\n",
              "<table border=\"1\" class=\"dataframe\">\n",
              "  <thead>\n",
              "    <tr style=\"text-align: right;\">\n",
              "      <th></th>\n",
              "      <th>Age</th>\n",
              "      <th>BMI</th>\n",
              "      <th>Glucose</th>\n",
              "      <th>Insulin</th>\n",
              "      <th>HOMA</th>\n",
              "      <th>Leptin</th>\n",
              "      <th>Adiponectin</th>\n",
              "      <th>Resistin</th>\n",
              "      <th>MCP.1</th>\n",
              "      <th>Classification</th>\n",
              "    </tr>\n",
              "  </thead>\n",
              "  <tbody>\n",
              "    <tr>\n",
              "      <th>Age</th>\n",
              "      <td>1.000000</td>\n",
              "      <td>0.008530</td>\n",
              "      <td>0.230106</td>\n",
              "      <td>0.032495</td>\n",
              "      <td>0.127033</td>\n",
              "      <td>0.102626</td>\n",
              "      <td>-0.219813</td>\n",
              "      <td>0.002742</td>\n",
              "      <td>0.013462</td>\n",
              "      <td>-0.043555</td>\n",
              "    </tr>\n",
              "    <tr>\n",
              "      <th>BMI</th>\n",
              "      <td>0.008530</td>\n",
              "      <td>1.000000</td>\n",
              "      <td>0.138845</td>\n",
              "      <td>0.145295</td>\n",
              "      <td>0.114480</td>\n",
              "      <td>0.569593</td>\n",
              "      <td>-0.302735</td>\n",
              "      <td>0.195350</td>\n",
              "      <td>0.224038</td>\n",
              "      <td>-0.132586</td>\n",
              "    </tr>\n",
              "    <tr>\n",
              "      <th>Glucose</th>\n",
              "      <td>0.230106</td>\n",
              "      <td>0.138845</td>\n",
              "      <td>1.000000</td>\n",
              "      <td>0.504653</td>\n",
              "      <td>0.696212</td>\n",
              "      <td>0.305080</td>\n",
              "      <td>-0.122121</td>\n",
              "      <td>0.291327</td>\n",
              "      <td>0.264879</td>\n",
              "      <td>0.384315</td>\n",
              "    </tr>\n",
              "    <tr>\n",
              "      <th>Insulin</th>\n",
              "      <td>0.032495</td>\n",
              "      <td>0.145295</td>\n",
              "      <td>0.504653</td>\n",
              "      <td>1.000000</td>\n",
              "      <td>0.932198</td>\n",
              "      <td>0.301462</td>\n",
              "      <td>-0.031296</td>\n",
              "      <td>0.146731</td>\n",
              "      <td>0.174356</td>\n",
              "      <td>0.276804</td>\n",
              "    </tr>\n",
              "    <tr>\n",
              "      <th>HOMA</th>\n",
              "      <td>0.127033</td>\n",
              "      <td>0.114480</td>\n",
              "      <td>0.696212</td>\n",
              "      <td>0.932198</td>\n",
              "      <td>1.000000</td>\n",
              "      <td>0.327210</td>\n",
              "      <td>-0.056337</td>\n",
              "      <td>0.231101</td>\n",
              "      <td>0.259529</td>\n",
              "      <td>0.284012</td>\n",
              "    </tr>\n",
              "    <tr>\n",
              "      <th>Leptin</th>\n",
              "      <td>0.102626</td>\n",
              "      <td>0.569593</td>\n",
              "      <td>0.305080</td>\n",
              "      <td>0.301462</td>\n",
              "      <td>0.327210</td>\n",
              "      <td>1.000000</td>\n",
              "      <td>-0.095389</td>\n",
              "      <td>0.256234</td>\n",
              "      <td>0.014009</td>\n",
              "      <td>-0.001078</td>\n",
              "    </tr>\n",
              "    <tr>\n",
              "      <th>Adiponectin</th>\n",
              "      <td>-0.219813</td>\n",
              "      <td>-0.302735</td>\n",
              "      <td>-0.122121</td>\n",
              "      <td>-0.031296</td>\n",
              "      <td>-0.056337</td>\n",
              "      <td>-0.095389</td>\n",
              "      <td>1.000000</td>\n",
              "      <td>-0.252363</td>\n",
              "      <td>-0.200694</td>\n",
              "      <td>-0.019490</td>\n",
              "    </tr>\n",
              "    <tr>\n",
              "      <th>Resistin</th>\n",
              "      <td>0.002742</td>\n",
              "      <td>0.195350</td>\n",
              "      <td>0.291327</td>\n",
              "      <td>0.146731</td>\n",
              "      <td>0.231101</td>\n",
              "      <td>0.256234</td>\n",
              "      <td>-0.252363</td>\n",
              "      <td>1.000000</td>\n",
              "      <td>0.366474</td>\n",
              "      <td>0.227310</td>\n",
              "    </tr>\n",
              "    <tr>\n",
              "      <th>MCP.1</th>\n",
              "      <td>0.013462</td>\n",
              "      <td>0.224038</td>\n",
              "      <td>0.264879</td>\n",
              "      <td>0.174356</td>\n",
              "      <td>0.259529</td>\n",
              "      <td>0.014009</td>\n",
              "      <td>-0.200694</td>\n",
              "      <td>0.366474</td>\n",
              "      <td>1.000000</td>\n",
              "      <td>0.091381</td>\n",
              "    </tr>\n",
              "    <tr>\n",
              "      <th>Classification</th>\n",
              "      <td>-0.043555</td>\n",
              "      <td>-0.132586</td>\n",
              "      <td>0.384315</td>\n",
              "      <td>0.276804</td>\n",
              "      <td>0.284012</td>\n",
              "      <td>-0.001078</td>\n",
              "      <td>-0.019490</td>\n",
              "      <td>0.227310</td>\n",
              "      <td>0.091381</td>\n",
              "      <td>1.000000</td>\n",
              "    </tr>\n",
              "  </tbody>\n",
              "</table>\n",
              "</div>\n",
              "      <button class=\"colab-df-convert\" onclick=\"convertToInteractive('df-b32da516-2e45-4f44-8577-75ecf6336f20')\"\n",
              "              title=\"Convert this dataframe to an interactive table.\"\n",
              "              style=\"display:none;\">\n",
              "        \n",
              "  <svg xmlns=\"http://www.w3.org/2000/svg\" height=\"24px\"viewBox=\"0 0 24 24\"\n",
              "       width=\"24px\">\n",
              "    <path d=\"M0 0h24v24H0V0z\" fill=\"none\"/>\n",
              "    <path d=\"M18.56 5.44l.94 2.06.94-2.06 2.06-.94-2.06-.94-.94-2.06-.94 2.06-2.06.94zm-11 1L8.5 8.5l.94-2.06 2.06-.94-2.06-.94L8.5 2.5l-.94 2.06-2.06.94zm10 10l.94 2.06.94-2.06 2.06-.94-2.06-.94-.94-2.06-.94 2.06-2.06.94z\"/><path d=\"M17.41 7.96l-1.37-1.37c-.4-.4-.92-.59-1.43-.59-.52 0-1.04.2-1.43.59L10.3 9.45l-7.72 7.72c-.78.78-.78 2.05 0 2.83L4 21.41c.39.39.9.59 1.41.59.51 0 1.02-.2 1.41-.59l7.78-7.78 2.81-2.81c.8-.78.8-2.07 0-2.86zM5.41 20L4 18.59l7.72-7.72 1.47 1.35L5.41 20z\"/>\n",
              "  </svg>\n",
              "      </button>\n",
              "      \n",
              "  <style>\n",
              "    .colab-df-container {\n",
              "      display:flex;\n",
              "      flex-wrap:wrap;\n",
              "      gap: 12px;\n",
              "    }\n",
              "\n",
              "    .colab-df-convert {\n",
              "      background-color: #E8F0FE;\n",
              "      border: none;\n",
              "      border-radius: 50%;\n",
              "      cursor: pointer;\n",
              "      display: none;\n",
              "      fill: #1967D2;\n",
              "      height: 32px;\n",
              "      padding: 0 0 0 0;\n",
              "      width: 32px;\n",
              "    }\n",
              "\n",
              "    .colab-df-convert:hover {\n",
              "      background-color: #E2EBFA;\n",
              "      box-shadow: 0px 1px 2px rgba(60, 64, 67, 0.3), 0px 1px 3px 1px rgba(60, 64, 67, 0.15);\n",
              "      fill: #174EA6;\n",
              "    }\n",
              "\n",
              "    [theme=dark] .colab-df-convert {\n",
              "      background-color: #3B4455;\n",
              "      fill: #D2E3FC;\n",
              "    }\n",
              "\n",
              "    [theme=dark] .colab-df-convert:hover {\n",
              "      background-color: #434B5C;\n",
              "      box-shadow: 0px 1px 3px 1px rgba(0, 0, 0, 0.15);\n",
              "      filter: drop-shadow(0px 1px 2px rgba(0, 0, 0, 0.3));\n",
              "      fill: #FFFFFF;\n",
              "    }\n",
              "  </style>\n",
              "\n",
              "      <script>\n",
              "        const buttonEl =\n",
              "          document.querySelector('#df-b32da516-2e45-4f44-8577-75ecf6336f20 button.colab-df-convert');\n",
              "        buttonEl.style.display =\n",
              "          google.colab.kernel.accessAllowed ? 'block' : 'none';\n",
              "\n",
              "        async function convertToInteractive(key) {\n",
              "          const element = document.querySelector('#df-b32da516-2e45-4f44-8577-75ecf6336f20');\n",
              "          const dataTable =\n",
              "            await google.colab.kernel.invokeFunction('convertToInteractive',\n",
              "                                                     [key], {});\n",
              "          if (!dataTable) return;\n",
              "\n",
              "          const docLinkHtml = 'Like what you see? Visit the ' +\n",
              "            '<a target=\"_blank\" href=https://colab.research.google.com/notebooks/data_table.ipynb>data table notebook</a>'\n",
              "            + ' to learn more about interactive tables.';\n",
              "          element.innerHTML = '';\n",
              "          dataTable['output_type'] = 'display_data';\n",
              "          await google.colab.output.renderOutput(dataTable, element);\n",
              "          const docLink = document.createElement('div');\n",
              "          docLink.innerHTML = docLinkHtml;\n",
              "          element.appendChild(docLink);\n",
              "        }\n",
              "      </script>\n",
              "    </div>\n",
              "  </div>\n",
              "  "
            ]
          },
          "metadata": {},
          "execution_count": 22
        }
      ]
    },
    {
      "cell_type": "code",
      "source": [
        "sns.scatterplot(x = 'Age', y ='Glucose', hue = 'Classification', data = cancer, palette = 'tab10');"
      ],
      "metadata": {
        "colab": {
          "base_uri": "https://localhost:8080/",
          "height": 279
        },
        "id": "TzwpMcyUC5_E",
        "outputId": "33198b36-811e-433b-a107-d6051cf8120c"
      },
      "execution_count": 23,
      "outputs": [
        {
          "output_type": "display_data",
          "data": {
            "text/plain": [
              "<Figure size 432x288 with 1 Axes>"
            ],
            "image/png": "[encoded data removed]"
          },
          "metadata": {
            "needs_background": "light"
          }
        }
      ]
    },
    {
      "cell_type": "code",
      "source": [
        "cancer['Classification'].value_counts()"
      ],
      "metadata": {
        "colab": {
          "base_uri": "https://localhost:8080/"
        },
        "id": "kGtfj08BDKon",
        "outputId": "4477342a-cda6-4aa4-ab07-9e01fe2ef3bf"
      },
      "execution_count": 24,
      "outputs": [
        {
          "output_type": "execute_result",
          "data": {
            "text/plain": [
              "2    64\n",
              "1    52\n",
              "Name: Classification, dtype: int64"
            ]
          },
          "metadata": {},
          "execution_count": 24
        }
      ]
    },
    {
      "cell_type": "code",
      "source": [
        "X = cancer.loc[:, cancer.columns != 'Classification']\n",
        "X.head()"
      ],
      "metadata": {
        "colab": {
          "base_uri": "https://localhost:8080/",
          "height": 206
        },
        "id": "tWXXAf1tDPsx",
        "outputId": "d97f07c0-6001-474a-dfdd-dffb2edab4ae"
      },
      "execution_count": 25,
      "outputs": [
        {
          "output_type": "execute_result",
          "data": {
            "text/plain": [
              "   Age        BMI  Glucose  Insulin      HOMA   Leptin  Adiponectin  Resistin  \\\n",
              "0   48  23.500000       70    2.707  0.467409   8.8071     9.702400   7.99585   \n",
              "1   83  20.690495       92    3.115  0.706897   8.8438     5.429285   4.06405   \n",
              "2   82  23.124670       91    4.498  1.009651  17.9393    22.432040   9.27715   \n",
              "3   68  21.367521       77    3.226  0.612725   9.8827     7.169560  12.76600   \n",
              "4   86  21.111111       92    3.549  0.805386   6.6994     4.819240  10.57635   \n",
              "\n",
              "     MCP.1  \n",
              "0  417.114  \n",
              "1  468.786  \n",
              "2  554.697  \n",
              "3  928.220  \n",
              "4  773.920  "
            ],
            "text/html": [
              "\n",
              "  <div id=\"df-679448a0-41bc-46bf-9397-e1c818de0a2a\">\n",
              "    <div class=\"colab-df-container\">\n",
              "      <div>\n",
              "<style scoped>\n",
              "    .dataframe tbody tr th:only-of-type {\n",
              "        vertical-align: middle;\n",
              "    }\n",
              "\n",
              "    .dataframe tbody tr th {\n",
              "        vertical-align: top;\n",
              "    }\n",
              "\n",
              "    .dataframe thead th {\n",
              "        text-align: right;\n",
              "    }\n",
              "</style>\n",
              "<table border=\"1\" class=\"dataframe\">\n",
              "  <thead>\n",
              "    <tr style=\"text-align: right;\">\n",
              "      <th></th>\n",
              "      <th>Age</th>\n",
              "      <th>BMI</th>\n",
              "      <th>Glucose</th>\n",
              "      <th>Insulin</th>\n",
              "      <th>HOMA</th>\n",
              "      <th>Leptin</th>\n",
              "      <th>Adiponectin</th>\n",
              "      <th>Resistin</th>\n",
              "      <th>MCP.1</th>\n",
              "    </tr>\n",
              "  </thead>\n",
              "  <tbody>\n",
              "    <tr>\n",
              "      <th>0</th>\n",
              "      <td>48</td>\n",
              "      <td>23.500000</td>\n",
              "      <td>70</td>\n",
              "      <td>2.707</td>\n",
              "      <td>0.467409</td>\n",
              "      <td>8.8071</td>\n",
              "      <td>9.702400</td>\n",
              "      <td>7.99585</td>\n",
              "      <td>417.114</td>\n",
              "    </tr>\n",
              "    <tr>\n",
              "      <th>1</th>\n",
              "      <td>83</td>\n",
              "      <td>20.690495</td>\n",
              "      <td>92</td>\n",
              "      <td>3.115</td>\n",
              "      <td>0.706897</td>\n",
              "      <td>8.8438</td>\n",
              "      <td>5.429285</td>\n",
              "      <td>4.06405</td>\n",
              "      <td>468.786</td>\n",
              "    </tr>\n",
              "    <tr>\n",
              "      <th>2</th>\n",
              "      <td>82</td>\n",
              "      <td>23.124670</td>\n",
              "      <td>91</td>\n",
              "      <td>4.498</td>\n",
              "      <td>1.009651</td>\n",
              "      <td>17.9393</td>\n",
              "      <td>22.432040</td>\n",
              "      <td>9.27715</td>\n",
              "      <td>554.697</td>\n",
              "    </tr>\n",
              "    <tr>\n",
              "      <th>3</th>\n",
              "      <td>68</td>\n",
              "      <td>21.367521</td>\n",
              "      <td>77</td>\n",
              "      <td>3.226</td>\n",
              "      <td>0.612725</td>\n",
              "      <td>9.8827</td>\n",
              "      <td>7.169560</td>\n",
              "      <td>12.76600</td>\n",
              "      <td>928.220</td>\n",
              "    </tr>\n",
              "    <tr>\n",
              "      <th>4</th>\n",
              "      <td>86</td>\n",
              "      <td>21.111111</td>\n",
              "      <td>92</td>\n",
              "      <td>3.549</td>\n",
              "      <td>0.805386</td>\n",
              "      <td>6.6994</td>\n",
              "      <td>4.819240</td>\n",
              "      <td>10.57635</td>\n",
              "      <td>773.920</td>\n",
              "    </tr>\n",
              "  </tbody>\n",
              "</table>\n",
              "</div>\n",
              "      <button class=\"colab-df-convert\" onclick=\"convertToInteractive('df-679448a0-41bc-46bf-9397-e1c818de0a2a')\"\n",
              "              title=\"Convert this dataframe to an interactive table.\"\n",
              "              style=\"display:none;\">\n",
              "        \n",
              "  <svg xmlns=\"http://www.w3.org/2000/svg\" height=\"24px\"viewBox=\"0 0 24 24\"\n",
              "       width=\"24px\">\n",
              "    <path d=\"M0 0h24v24H0V0z\" fill=\"none\"/>\n",
              "    <path d=\"M18.56 5.44l.94 2.06.94-2.06 2.06-.94-2.06-.94-.94-2.06-.94 2.06-2.06.94zm-11 1L8.5 8.5l.94-2.06 2.06-.94-2.06-.94L8.5 2.5l-.94 2.06-2.06.94zm10 10l.94 2.06.94-2.06 2.06-.94-2.06-.94-.94-2.06-.94 2.06-2.06.94z\"/><path d=\"M17.41 7.96l-1.37-1.37c-.4-.4-.92-.59-1.43-.59-.52 0-1.04.2-1.43.59L10.3 9.45l-7.72 7.72c-.78.78-.78 2.05 0 2.83L4 21.41c.39.39.9.59 1.41.59.51 0 1.02-.2 1.41-.59l7.78-7.78 2.81-2.81c.8-.78.8-2.07 0-2.86zM5.41 20L4 18.59l7.72-7.72 1.47 1.35L5.41 20z\"/>\n",
              "  </svg>\n",
              "      </button>\n",
              "      \n",
              "  <style>\n",
              "    .colab-df-container {\n",
              "      display:flex;\n",
              "      flex-wrap:wrap;\n",
              "      gap: 12px;\n",
              "    }\n",
              "\n",
              "    .colab-df-convert {\n",
              "      background-color: #E8F0FE;\n",
              "      border: none;\n",
              "      border-radius: 50%;\n",
              "      cursor: pointer;\n",
              "      display: none;\n",
              "      fill: #1967D2;\n",
              "      height: 32px;\n",
              "      padding: 0 0 0 0;\n",
              "      width: 32px;\n",
              "    }\n",
              "\n",
              "    .colab-df-convert:hover {\n",
              "      background-color: #E2EBFA;\n",
              "      box-shadow: 0px 1px 2px rgba(60, 64, 67, 0.3), 0px 1px 3px 1px rgba(60, 64, 67, 0.15);\n",
              "      fill: #174EA6;\n",
              "    }\n",
              "\n",
              "    [theme=dark] .colab-df-convert {\n",
              "      background-color: #3B4455;\n",
              "      fill: #D2E3FC;\n",
              "    }\n",
              "\n",
              "    [theme=dark] .colab-df-convert:hover {\n",
              "      background-color: #434B5C;\n",
              "      box-shadow: 0px 1px 3px 1px rgba(0, 0, 0, 0.15);\n",
              "      filter: drop-shadow(0px 1px 2px rgba(0, 0, 0, 0.3));\n",
              "      fill: #FFFFFF;\n",
              "    }\n",
              "  </style>\n",
              "\n",
              "      <script>\n",
              "        const buttonEl =\n",
              "          document.querySelector('#df-679448a0-41bc-46bf-9397-e1c818de0a2a button.colab-df-convert');\n",
              "        buttonEl.style.display =\n",
              "          google.colab.kernel.accessAllowed ? 'block' : 'none';\n",
              "\n",
              "        async function convertToInteractive(key) {\n",
              "          const element = document.querySelector('#df-679448a0-41bc-46bf-9397-e1c818de0a2a');\n",
              "          const dataTable =\n",
              "            await google.colab.kernel.invokeFunction('convertToInteractive',\n",
              "                                                     [key], {});\n",
              "          if (!dataTable) return;\n",
              "\n",
              "          const docLinkHtml = 'Like what you see? Visit the ' +\n",
              "            '<a target=\"_blank\" href=https://colab.research.google.com/notebooks/data_table.ipynb>data table notebook</a>'\n",
              "            + ' to learn more about interactive tables.';\n",
              "          element.innerHTML = '';\n",
              "          dataTable['output_type'] = 'display_data';\n",
              "          await google.colab.output.renderOutput(dataTable, element);\n",
              "          const docLink = document.createElement('div');\n",
              "          docLink.innerHTML = docLinkHtml;\n",
              "          element.appendChild(docLink);\n",
              "        }\n",
              "      </script>\n",
              "    </div>\n",
              "  </div>\n",
              "  "
            ]
          },
          "metadata": {},
          "execution_count": 25
        }
      ]
    },
    {
      "cell_type": "code",
      "source": [
        "y = cancer[\"Classification\"]\n",
        "y.head() "
      ],
      "metadata": {
        "colab": {
          "base_uri": "https://localhost:8080/"
        },
        "id": "Yx8tWeqkDoOk",
        "outputId": "c401b76f-72c0-44f0-e2c5-0c73f74bfa40"
      },
      "execution_count": 27,
      "outputs": [
        {
          "output_type": "execute_result",
          "data": {
            "text/plain": [
              "0    1\n",
              "1    1\n",
              "2    1\n",
              "3    1\n",
              "4    1\n",
              "Name: Classification, dtype: int64"
            ]
          },
          "metadata": {},
          "execution_count": 27
        }
      ]
    },
    {
      "cell_type": "code",
      "source": [
        "y = y.replace({1: 0, 2: 1})"
      ],
      "metadata": {
        "id": "74mL6F2HD8TX"
      },
      "execution_count": 28,
      "outputs": []
    },
    {
      "cell_type": "code",
      "source": [
        "X_train, X_test, y_train, y_test = train_test_split( X, y, test_size=0.2, random_state=4)\n",
        "print ('Train set:', X_train.shape,  y_train.shape)\n",
        "print ('Test set:', X_test.shape,  y_test.shape)"
      ],
      "metadata": {
        "colab": {
          "base_uri": "https://localhost:8080/"
        },
        "id": "b-J0QnSbEDUo",
        "outputId": "665e94d0-7214-423c-b601-b472bc4c4784"
      },
      "execution_count": 29,
      "outputs": [
        {
          "output_type": "stream",
          "name": "stdout",
          "text": [
            "Train set: (92, 9) (92,)\n",
            "Test set: (24, 9) (24,)\n"
          ]
        }
      ]
    },
    {
      "cell_type": "markdown",
      "source": [
        "# Klasifikasi Naive Bayes"
      ],
      "metadata": {
        "id": "Aqlb-e0VESEu"
      }
    },
    {
      "cell_type": "code",
      "source": [
        "NB = GaussianNB()\n",
        "NB.fit(X_train,y_train)\n",
        "y_pred_NB = NB.predict(X_test)"
      ],
      "metadata": {
        "id": "mxDBt-BjEbAr"
      },
      "execution_count": 30,
      "outputs": []
    },
    {
      "cell_type": "code",
      "source": [
        "print(\"Train set Accuracy: \", accuracy_score(y_train, NB.predict(X_train)))\n",
        "\n",
        "accuracy = (y_pred_NB == y_test).sum() / len(y_test)\n",
        "\n",
        "print('Accuracy of Naive Bayes Classifier calculated manually is ', accuracy.round(2))\n",
        "print('Accuracy of Naive Bayes Classifier is ', accuracy_score(y_test, y_pred_NB))\n",
        "print('\\n', '\\n','Confusion Matrix of Naive Bayes Classifier:' '\\n', confusion_matrix(y_test, y_pred_NB))\n",
        "print('\\n', '\\n','Classification Report for Naive Bayes Classifier:' '\\n',classification_report(y_test, y_pred_NB))"
      ],
      "metadata": {
        "colab": {
          "base_uri": "https://localhost:8080/"
        },
        "id": "-uVLSRMZEeDD",
        "outputId": "3307327f-8c3b-4e92-dd87-61780bb1c4a5"
      },
      "execution_count": 31,
      "outputs": [
        {
          "output_type": "stream",
          "name": "stdout",
          "text": [
            "Train set Accuracy:  0.6304347826086957\n",
            "Accuracy of Naive Bayes Classifier calculated manually is  0.67\n",
            "Accuracy of Naive Bayes Classifier is  0.6666666666666666\n",
            "\n",
            " \n",
            " Confusion Matrix of Naive Bayes Classifier:\n",
            " [[12  2]\n",
            " [ 6  4]]\n",
            "\n",
            " \n",
            " Classification Report for Naive Bayes Classifier:\n",
            "               precision    recall  f1-score   support\n",
            "\n",
            "           0       0.67      0.86      0.75        14\n",
            "           1       0.67      0.40      0.50        10\n",
            "\n",
            "    accuracy                           0.67        24\n",
            "   macro avg       0.67      0.63      0.62        24\n",
            "weighted avg       0.67      0.67      0.65        24\n",
            "\n"
          ]
        }
      ]
    },
    {
      "cell_type": "markdown",
      "source": [
        "# Metode Decision Tree"
      ],
      "metadata": {
        "id": "QfRpFfajFhmR"
      }
    },
    {
      "cell_type": "code",
      "source": [
        "#Train Model dan Predict  \n",
        "decision = DecisionTreeClassifier(criterion=\"entropy\", max_depth = 4)\n",
        "decision.fit(X_train,y_train)\n",
        "y_pred_DT = decision.predict(X_test)\n",
        "cm = confusion_matrix(y_test, y_pred_DT)"
      ],
      "metadata": {
        "id": "xsEZT0ZSFoSV"
      },
      "execution_count": 38,
      "outputs": []
    },
    {
      "cell_type": "code",
      "source": [
        "accuracy = (y_pred_DT == y_test).sum() / len(y_test)\n",
        "\n",
        "print(\"Train set Accuracy: \", accuracy_score(y_train, DT.predict(X_train)))\n",
        "print('Accuracy of Decision Tree Model calculated manually is ', accuracy.round(2))\n",
        "print('Accuracy of Decision Tree Model is ', accuracy_score(y_test, y_pred_DT))\n",
        "print('\\n', '\\n','Confusion Matrix of Decision Tree Model:' '\\n', confusion_matrix(y_test, y_pred_DT))\n",
        "print('\\n', '\\n','Classification Report for Decision Tree Model:' '\\n',classification_report(y_test, y_pred_DT))"
      ],
      "metadata": {
        "colab": {
          "base_uri": "https://localhost:8080/"
        },
        "id": "PrVS44i6GSBq",
        "outputId": "68c8053d-6ce9-4a43-dacd-398da43287f2"
      },
      "execution_count": 39,
      "outputs": [
        {
          "output_type": "stream",
          "name": "stdout",
          "text": [
            "Train set Accuracy:  0.9456521739130435\n",
            "Accuracy of Decision Tree Model calculated manually is  0.79\n",
            "Accuracy of Decision Tree Model is  0.7916666666666666\n",
            "\n",
            " \n",
            " Confusion Matrix of Decision Tree Model:\n",
            " [[12  2]\n",
            " [ 3  7]]\n",
            "\n",
            " \n",
            " Classification Report for Decision Tree Model:\n",
            "               precision    recall  f1-score   support\n",
            "\n",
            "           0       0.80      0.86      0.83        14\n",
            "           1       0.78      0.70      0.74        10\n",
            "\n",
            "    accuracy                           0.79        24\n",
            "   macro avg       0.79      0.78      0.78        24\n",
            "weighted avg       0.79      0.79      0.79        24\n",
            "\n"
          ]
        }
      ]
    },
    {
      "cell_type": "code",
      "source": [],
      "metadata": {
        "id": "yiH5qkFuGS-P"
      },
      "execution_count": null,
      "outputs": []
    }
  ]
}